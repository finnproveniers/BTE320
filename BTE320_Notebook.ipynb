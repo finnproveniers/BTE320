{
  "nbformat": 4,
  "nbformat_minor": 0,
  "metadata": {
    "colab": {
      "provenance": [],
      "authorship_tag": "ABX9TyNE8HBxBMIK+vooJlzu40Nr",
      "include_colab_link": true
    },
    "kernelspec": {
      "name": "python3",
      "display_name": "Python 3"
    },
    "language_info": {
      "name": "python"
    }
  },
  "cells": [
    {
      "cell_type": "markdown",
      "metadata": {
        "id": "view-in-github",
        "colab_type": "text"
      },
      "source": [
        "<a href=\"https://colab.research.google.com/github/finnproveniers/BTE320/blob/main/BTE320_Notebook.ipynb\" target=\"_parent\"><img src=\"https://colab.research.google.com/assets/colab-badge.svg\" alt=\"Open In Colab\"/></a>"
      ]
    },
    {
      "cell_type": "markdown",
      "source": [
        "#**Class 2: August 21, 2024**"
      ],
      "metadata": {
        "id": "FH1sDzdUA2hF"
      }
    },
    {
      "cell_type": "markdown",
      "source": [
        "5/2 → 2.5,\n",
        "5//2 → 2,\n",
        "4/2 → 2.0,\n",
        "7%3 → 1 (the remainder of the division),\n",
        "2**3 → 8 (2 to the power of 3, 2^3)"
      ],
      "metadata": {
        "id": "acuxbUgTZnWf"
      }
    },
    {
      "cell_type": "code",
      "source": [
        "2 + 3"
      ],
      "metadata": {
        "id": "MczgvtJtDh06",
        "colab": {
          "base_uri": "https://localhost:8080/"
        },
        "outputId": "aaa3cfe4-ceea-40de-ca08-a638627679f0"
      },
      "execution_count": null,
      "outputs": [
        {
          "output_type": "execute_result",
          "data": {
            "text/plain": [
              "5"
            ]
          },
          "metadata": {},
          "execution_count": 4
        }
      ]
    },
    {
      "cell_type": "code",
      "source": [
        "7 - 6"
      ],
      "metadata": {
        "colab": {
          "base_uri": "https://localhost:8080/"
        },
        "id": "bwx9bODOXgVz",
        "outputId": "c7a5e369-4132-4d90-cce6-f3a9883f00ae"
      },
      "execution_count": null,
      "outputs": [
        {
          "output_type": "execute_result",
          "data": {
            "text/plain": [
              "1"
            ]
          },
          "metadata": {},
          "execution_count": 5
        }
      ]
    },
    {
      "cell_type": "code",
      "source": [
        "2*8"
      ],
      "metadata": {
        "colab": {
          "base_uri": "https://localhost:8080/"
        },
        "id": "i07QW8iKXjCO",
        "outputId": "10a71e48-07d1-46ff-a495-4b21baf6e247"
      },
      "execution_count": null,
      "outputs": [
        {
          "output_type": "execute_result",
          "data": {
            "text/plain": [
              "16"
            ]
          },
          "metadata": {},
          "execution_count": 6
        }
      ]
    },
    {
      "cell_type": "code",
      "source": [
        "2**4"
      ],
      "metadata": {
        "colab": {
          "base_uri": "https://localhost:8080/"
        },
        "id": "4Fkr7wczXlrb",
        "outputId": "594f8670-6610-4007-eae9-4a76114fbc1f"
      },
      "execution_count": null,
      "outputs": [
        {
          "output_type": "execute_result",
          "data": {
            "text/plain": [
              "16"
            ]
          },
          "metadata": {},
          "execution_count": 7
        }
      ]
    },
    {
      "cell_type": "code",
      "source": [
        "4 / 2"
      ],
      "metadata": {
        "colab": {
          "base_uri": "https://localhost:8080/"
        },
        "id": "MBhVvjPOXn0d",
        "outputId": "7f86e964-b4fb-4857-efc7-4da9210a140e"
      },
      "execution_count": null,
      "outputs": [
        {
          "output_type": "execute_result",
          "data": {
            "text/plain": [
              "2.0"
            ]
          },
          "metadata": {},
          "execution_count": 16
        }
      ]
    },
    {
      "cell_type": "code",
      "source": [
        "5 // 2"
      ],
      "metadata": {
        "colab": {
          "base_uri": "https://localhost:8080/"
        },
        "id": "sRj5TPosXpfu",
        "outputId": "e3ba1415-46ca-46d9-f20e-3c12649def4a"
      },
      "execution_count": null,
      "outputs": [
        {
          "output_type": "execute_result",
          "data": {
            "text/plain": [
              "2"
            ]
          },
          "metadata": {},
          "execution_count": 14
        }
      ]
    },
    {
      "cell_type": "code",
      "source": [
        "2%5"
      ],
      "metadata": {
        "colab": {
          "base_uri": "https://localhost:8080/"
        },
        "id": "RkwWuROBXvKp",
        "outputId": "6b18e657-984e-4c7e-e176-dc6ffbbf077a"
      },
      "execution_count": null,
      "outputs": [
        {
          "output_type": "execute_result",
          "data": {
            "text/plain": [
              "2"
            ]
          },
          "metadata": {},
          "execution_count": 11
        }
      ]
    },
    {
      "cell_type": "code",
      "source": [
        "y = 5"
      ],
      "metadata": {
        "id": "axW-koIyZBtv"
      },
      "execution_count": null,
      "outputs": []
    },
    {
      "cell_type": "code",
      "source": [
        "y==5"
      ],
      "metadata": {
        "colab": {
          "base_uri": "https://localhost:8080/"
        },
        "id": "ZvUkX3dBZZyd",
        "outputId": "fdfd0ec0-1c22-4fcc-b238-4e8142145aa0"
      },
      "execution_count": null,
      "outputs": [
        {
          "output_type": "execute_result",
          "data": {
            "text/plain": [
              "True"
            ]
          },
          "metadata": {},
          "execution_count": 35
        }
      ]
    },
    {
      "cell_type": "code",
      "source": [
        "y != 5"
      ],
      "metadata": {
        "colab": {
          "base_uri": "https://localhost:8080/"
        },
        "id": "gCe8VR7qZcU9",
        "outputId": "4f73c777-c02f-4f8e-a6a1-b53a9a693088"
      },
      "execution_count": null,
      "outputs": [
        {
          "output_type": "execute_result",
          "data": {
            "text/plain": [
              "False"
            ]
          },
          "metadata": {},
          "execution_count": 36
        }
      ]
    },
    {
      "cell_type": "code",
      "source": [
        "a = 2 > 3\n",
        "b = 5 == 5\n",
        "\n",
        "a and b"
      ],
      "metadata": {
        "colab": {
          "base_uri": "https://localhost:8080/"
        },
        "id": "xuMgLtUmcHIF",
        "outputId": "a11c0a9d-ec26-47bb-f375-8b45ef113af3"
      },
      "execution_count": null,
      "outputs": [
        {
          "output_type": "execute_result",
          "data": {
            "text/plain": [
              "False"
            ]
          },
          "metadata": {},
          "execution_count": 1
        }
      ]
    },
    {
      "cell_type": "markdown",
      "source": [
        "# **Class 3: August 26, 2024**\n"
      ],
      "metadata": {
        "id": "-4LqczFMALsD"
      }
    },
    {
      "cell_type": "code",
      "source": [
        "r=5\n",
        "pi=3.14"
      ],
      "metadata": {
        "id": "GXKPGhclAVjB"
      },
      "execution_count": null,
      "outputs": []
    },
    {
      "cell_type": "code",
      "source": [
        "Area=(r**2)*pi"
      ],
      "metadata": {
        "id": "dTk-COH1AYV6"
      },
      "execution_count": null,
      "outputs": []
    },
    {
      "cell_type": "code",
      "source": [
        "print(Area)"
      ],
      "metadata": {
        "colab": {
          "base_uri": "https://localhost:8080/"
        },
        "id": "PmQrQbcWBWKk",
        "outputId": "1d553a7e-f436-414d-b10f-766ca295aa59"
      },
      "execution_count": null,
      "outputs": [
        {
          "output_type": "stream",
          "name": "stdout",
          "text": [
            "78.5\n"
          ]
        }
      ]
    },
    {
      "cell_type": "markdown",
      "source": [
        "This can all now go into a singular section ^"
      ],
      "metadata": {
        "id": "9OyQFNmjCIPR"
      }
    },
    {
      "cell_type": "code",
      "source": [
        "pi = 3.14\n",
        "r = 5\n",
        "Area = pi*(r**2)\n",
        "\n",
        "print(Area)"
      ],
      "metadata": {
        "colab": {
          "base_uri": "https://localhost:8080/"
        },
        "id": "g1yfvx5oB5RN",
        "outputId": "3329691d-62e9-486b-e03d-81bcf7df4257"
      },
      "execution_count": null,
      "outputs": [
        {
          "output_type": "stream",
          "name": "stdout",
          "text": [
            "78.5\n"
          ]
        }
      ]
    },
    {
      "cell_type": "markdown",
      "source": [
        "We can use #'s in our code to make small comments and notes so you don't forget what you mean as seen below. You can only use it for a single line, it doesn't carry down."
      ],
      "metadata": {
        "id": "U5_AOgNJKy2w"
      }
    },
    {
      "cell_type": "code",
      "source": [
        "pi = 3.14\n",
        "r = 3 # Radius of circle\n",
        "h = 10 # Height of cylinder\n",
        "\n",
        "# Calculate cylinder surfance area\n",
        "Surfacearea=(2*pi*(r**2))+(2*pi*r*h)\n",
        "# Display result\n",
        "print(Surfacearea)\n",
        "\n"
      ],
      "metadata": {
        "colab": {
          "base_uri": "https://localhost:8080/"
        },
        "id": "Z1DXo21oK448",
        "outputId": "d6ec9c64-3be9-4ffb-b231-2e3f965da6b0"
      },
      "execution_count": null,
      "outputs": [
        {
          "output_type": "stream",
          "name": "stdout",
          "text": [
            "244.92000000000002\n"
          ]
        }
      ]
    },
    {
      "cell_type": "markdown",
      "source": [
        "If you want multiple lines, you do this:\n",
        "'''\n",
        "Text 1\n",
        "Text 2\n",
        "Text 3\n",
        "'''"
      ],
      "metadata": {
        "id": "5jhtQOPfLnJU"
      }
    },
    {
      "cell_type": "code",
      "source": [
        "'''\n",
        "First line\n",
        "Second line\n",
        "Third line\n",
        "'''"
      ],
      "metadata": {
        "collapsed": true,
        "id": "4i_3HIWvLteg"
      },
      "execution_count": null,
      "outputs": []
    },
    {
      "cell_type": "code",
      "source": [
        "x = 1\n",
        "y = 2\n",
        "z = 3\n",
        "#OR\n",
        "x, y, z = 1, 2, 3"
      ],
      "metadata": {
        "id": "er6aIqT8M3l6"
      },
      "execution_count": null,
      "outputs": []
    },
    {
      "cell_type": "markdown",
      "source": [
        "# **Class 4: August 28, 2024**"
      ],
      "metadata": {
        "id": "f2CJNKk_RR1d"
      }
    },
    {
      "cell_type": "code",
      "source": [
        "print(3, 5.4, 'abc')"
      ],
      "metadata": {
        "colab": {
          "base_uri": "https://localhost:8080/"
        },
        "id": "j99i04fyRXGL",
        "outputId": "8d27690f-fdae-4477-beab-d58b0325de34"
      },
      "execution_count": null,
      "outputs": [
        {
          "output_type": "stream",
          "name": "stdout",
          "text": [
            "3 5.4 abc\n"
          ]
        }
      ]
    },
    {
      "cell_type": "code",
      "source": [
        "x = 3\n",
        "y = 5.4\n",
        "s = 'abc'\n",
        "print(x, y, s)"
      ],
      "metadata": {
        "colab": {
          "base_uri": "https://localhost:8080/"
        },
        "id": "aGZdhofiRnj_",
        "outputId": "c01abdb5-d36a-44e3-b06d-2fe681b4e782"
      },
      "execution_count": null,
      "outputs": [
        {
          "output_type": "stream",
          "name": "stdout",
          "text": [
            "3 5.4 abc\n"
          ]
        }
      ]
    },
    {
      "cell_type": "markdown",
      "source": [
        "Sep='' describes the seperate between the objects in the print function. If you want a seperate, you would code Sep='  '"
      ],
      "metadata": {
        "id": "zSiMp5fJUj2n"
      }
    },
    {
      "cell_type": "markdown",
      "source": [
        "The end='' function shows what your print function will end in. Defaultly, it would end with just another line; also end='\\n' is the regular default."
      ],
      "metadata": {
        "id": "KmC0B2zkVVB0"
      }
    },
    {
      "cell_type": "code",
      "source": [
        "pi = 3.14\n",
        "r = 5\n",
        "Area = pi*(r**2)\n",
        "\n",
        "print('Area is',Area,'square feet', end='\\n\\n')\n",
        "print('Area is %f sqaure feet' % Area)\n",
        "print('Area is {} square feet'.format(Area))\n",
        "print(f'Area is {Area} square feet')\n",
        "print('Program ends...')"
      ],
      "metadata": {
        "colab": {
          "base_uri": "https://localhost:8080/"
        },
        "id": "7tKwaotATmO2",
        "outputId": "ca53f2f3-bb27-4b22-d0df-7411f70e9861"
      },
      "execution_count": null,
      "outputs": [
        {
          "output_type": "stream",
          "name": "stdout",
          "text": [
            "Area is 78.5 square feet\n",
            "\n",
            "Area is 78.500000 sqaure feet\n",
            "Area is 78.5 square feet\n",
            "Area is 78.5 square feet\n",
            "Program ends...\n"
          ]
        }
      ]
    },
    {
      "cell_type": "markdown",
      "source": [
        "The % method of adding subject uses 6 decimal places unless you specify by \"%.1f\""
      ],
      "metadata": {
        "id": "npJBd4uIXyTC"
      }
    },
    {
      "cell_type": "code",
      "source": [
        "print('Area is %.1f sqaure feet' % Area)"
      ],
      "metadata": {
        "colab": {
          "base_uri": "https://localhost:8080/"
        },
        "id": "uUH03HyrXHbu",
        "outputId": "61ac185f-d26e-4929-812e-26067716a055"
      },
      "execution_count": null,
      "outputs": [
        {
          "output_type": "stream",
          "name": "stdout",
          "text": [
            "Area is 78.5 sqaure feet\n"
          ]
        }
      ]
    },
    {
      "cell_type": "markdown",
      "source": [
        "Format ( ) is a method which are functions that are used only with their object types.\n",
        "* \" . . . \".format ( )\n",
        "* You want to make sure to use these { } when you are writing the code\n",
        "\n"
      ],
      "metadata": {
        "id": "-zhqIcZxYGuM"
      }
    },
    {
      "cell_type": "code",
      "source": [
        "print('Area is {} square feet'.format(Area))"
      ],
      "metadata": {
        "colab": {
          "base_uri": "https://localhost:8080/"
        },
        "id": "NVjj7zI-YtZ4",
        "outputId": "60a7107d-45ab-4f06-967b-0ae3fac1cc73"
      },
      "execution_count": null,
      "outputs": [
        {
          "output_type": "stream",
          "name": "stdout",
          "text": [
            "Area is 78.5 square feet\n"
          ]
        }
      ]
    },
    {
      "cell_type": "markdown",
      "source": [
        "F-strings are another form of writing.\n",
        "* Basically the same way as .format ( ) but you put your argument directly in the brackets"
      ],
      "metadata": {
        "id": "ne2rG5A-aVxL"
      }
    },
    {
      "cell_type": "code",
      "source": [
        "print(f'Area is {Area} square feet')"
      ],
      "metadata": {
        "id": "QGQIIVIQZiwY",
        "colab": {
          "base_uri": "https://localhost:8080/"
        },
        "outputId": "0661d95d-685e-459b-a378-20ea00e71fb9"
      },
      "execution_count": null,
      "outputs": [
        {
          "output_type": "stream",
          "name": "stdout",
          "text": [
            "Area is 78.5 square feet\n"
          ]
        }
      ]
    },
    {
      "cell_type": "markdown",
      "source": [
        "Dynamic inputs exist such as\n",
        "* input ( \". . . .\" )"
      ],
      "metadata": {
        "id": "Po-y7RNsdPoi"
      }
    },
    {
      "cell_type": "code",
      "source": [
        "pi = 3.14\n",
        "r = float(input('Provide a value for the radius (in ft)'))\n",
        "\n",
        "area = pi * r ** 2\n",
        "print(f'Area is {area} sq ft.')"
      ],
      "metadata": {
        "colab": {
          "base_uri": "https://localhost:8080/"
        },
        "id": "9m8ggr1udf5w",
        "outputId": "d1b295dc-6b3a-48de-afc1-7199d02a9c19"
      },
      "execution_count": null,
      "outputs": [
        {
          "output_type": "stream",
          "name": "stdout",
          "text": [
            "Provide a value for the radius (in ft)5\n",
            "Area is 78.5 sq ft.\n"
          ]
        }
      ]
    },
    {
      "cell_type": "markdown",
      "source": [
        "# **Class 5: September 4, 2024**\n",
        "\n"
      ],
      "metadata": {
        "id": "fWVXNLNkTojD"
      }
    },
    {
      "cell_type": "code",
      "source": [
        "if condition:\n",
        "  epxr1\n",
        "  expr2"
      ],
      "metadata": {
        "id": "JS6dfqXWT0bA"
      },
      "execution_count": null,
      "outputs": []
    },
    {
      "cell_type": "markdown",
      "source": [
        "ELIF stands for \" else if. It's just an alternative for if, or else."
      ],
      "metadata": {
        "id": "eToxtXwlePhA"
      }
    },
    {
      "cell_type": "code",
      "source": [
        "pi = 3.14\n",
        "r = float(input('Provide a value for the radius (in ft)'))\n",
        "c = float(input('Provide value for side of sq: '))\n",
        "h = float(input('Provide height value:'))\n",
        "shape = 'circle'\n",
        "\n",
        "if shape == 'circle':\n",
        "  area = pi * r ** 2\n",
        "  print(f'Area is {area} sq ft.')\n",
        "elif shape == 'sq':\n",
        "  area = c**2\n",
        "  print(f'Area is {area} sq ft.')\n",
        "elif shape == 'triangle':\n",
        "  area = 0.5 * c * h\n",
        "  print(f'Area is {area} sq ft.')\n",
        "elif shape == 'cylinder':\n",
        "  area = 2 * pi * r * h + 2 * r ** 2\n",
        "  print(f'Area is {area} sq ft.')\n",
        "print('Program ends...')"
      ],
      "metadata": {
        "colab": {
          "base_uri": "https://localhost:8080/"
        },
        "id": "CHJCknZgYcLP",
        "outputId": "6f7af039-cb7c-4fc3-ccd5-675d227d45c5"
      },
      "execution_count": null,
      "outputs": [
        {
          "output_type": "stream",
          "name": "stdout",
          "text": [
            "Provide a value for the radius (in ft)5\n",
            "Provide value for side of sq: 10\n",
            "Provide height value:3\n",
            "Area is 78.5 sq ft.\n",
            "Program ends...\n"
          ]
        }
      ]
    },
    {
      "cell_type": "code",
      "source": [
        "grade = 90\n",
        "\n",
        "if grade > 96:\n",
        "  print('A+')\n",
        "elif grade > 93:\n",
        "  print('A')\n",
        "elif grade > 90:\n",
        "  print('A-')\n",
        "elif grade > 88:\n",
        "  print('B+')"
      ],
      "metadata": {
        "colab": {
          "base_uri": "https://localhost:8080/"
        },
        "id": "7Ryew0oYb5-m",
        "outputId": "b182db73-1747-42c2-b581-3a0fd7bc5105"
      },
      "execution_count": null,
      "outputs": [
        {
          "output_type": "stream",
          "name": "stdout",
          "text": [
            "B+\n"
          ]
        }
      ]
    },
    {
      "cell_type": "markdown",
      "source": [
        "Float is when there are decimals. Integers is when they are just whole numbers. Boolean are either true or false."
      ],
      "metadata": {
        "id": "UJ2P3ekwinQi"
      }
    },
    {
      "cell_type": "code",
      "source": [
        "amount = float(input('Give initial amount ($):'))\n",
        "n_years = int(input('Give years of investment: '))\n",
        "\n",
        "if amount > 10000:\n",
        "  return_amount = (1 + 0.035) ** n_years * amount\n",
        "elif amount > 1000:\n",
        "  return_amount = (1 + 0.0325) ** n_years * amount\n",
        "else:\n",
        "    return_amount = (1 + 0.03) ** n_years * amount\n",
        "\n",
        "print(return_amount)"
      ],
      "metadata": {
        "colab": {
          "base_uri": "https://localhost:8080/"
        },
        "id": "i0awnYvbiLnW",
        "outputId": "a48180b2-55c9-4461-d562-6a4a12c5d673"
      },
      "execution_count": null,
      "outputs": [
        {
          "output_type": "stream",
          "name": "stdout",
          "text": [
            "Give initial amount ($):1500\n",
            "Give years of investment: 3\n",
            "1651.0546171875\n"
          ]
        }
      ]
    },
    {
      "cell_type": "markdown",
      "source": [
        "# **Class 6: September 9, 2024**"
      ],
      "metadata": {
        "id": "m4LnzGdeDoMm"
      }
    },
    {
      "cell_type": "markdown",
      "source": [
        "*   If is a conditional used when something is true\n",
        "* Else is a conditional if nothing else works above, typically used at the end of code.\n",
        "*   When we have a conditional, we have to have an indentation.\n",
        "* If we have more than one conditional when one is true and the rest are ignored, we introduced ELIF |Else if|; this goes from top to bottom.\n",
        "\n",
        "\n",
        "\n"
      ],
      "metadata": {
        "id": "OuIz3PYED5m6"
      }
    },
    {
      "cell_type": "markdown",
      "source": [
        "The three boolean operations include \"and\" \"or\" & \"not.\"\n",
        "* \"and\" is used when two things must be true\n",
        "* \"or\" is used when one of the criteria must be met\n",
        "* \"not\" is rarely used"
      ],
      "metadata": {
        "id": "xvD_IQkNF6SG"
      }
    },
    {
      "cell_type": "code",
      "source": [
        "amount = float(input('Give initial amount ($):'))\n",
        "n_years = int(input('Give years of investment: '))\n",
        "customer_type = input('Type of customer (n->new, e->existing):')\n",
        "\n",
        "if amount > 10000 and customer_type == 'e':\n",
        "  return_amount = (1 + 0.035) ** n_years * amount\n",
        "elif amount > 1000 and customer_type == 'e':\n",
        "  return_amount = (1 + 0.0325) ** n_years * amount\n",
        "elif amount <= 1000 and customer_type == 'e':\n",
        "    return_amount = (1 + 0.03) ** n_years * amount\n",
        "else:\n",
        "    return_amount = (1 + 0.04) ** n_years * amount\n",
        "\n",
        "print(return_amount)"
      ],
      "metadata": {
        "colab": {
          "base_uri": "https://localhost:8080/"
        },
        "id": "vM8ngoRgEsAg",
        "outputId": "c6accc96-05e8-4f85-8f47-8d1955e6ecab"
      },
      "execution_count": null,
      "outputs": [
        {
          "output_type": "stream",
          "name": "stdout",
          "text": [
            "Give initial amount ($):1500\n",
            "Give years of investment: 2\n",
            "Type of customer (n->new, e->existing):n\n",
            "1622.4\n"
          ]
        }
      ]
    },
    {
      "cell_type": "markdown",
      "source": [
        "Nested conditionals are conditionals within conditionals."
      ],
      "metadata": {
        "id": "UuQ6V3OlJFF2"
      }
    },
    {
      "cell_type": "code",
      "source": [
        "amount = float(input('Give initial amount ($):'))\n",
        "n_years = int(input('Give years of investment: '))\n",
        "customer_type = input('Type of customer (n->new, e->existing):')\n",
        "\n",
        "if customer_type == 'e':\n",
        "  if amount > 10000:\n",
        "    return_amount = (1 + 0.035) ** n_years * amount\n",
        "  elif amount > 1000:\n",
        "    return_amount = (1 + 0.0325) ** n_years * amount\n",
        "  else:\n",
        "    return_amount = (1 + 0.03) ** n_years * amount\n",
        "else:\n",
        "  return_amount = (1 + 0.04) ** n_years * amount\n",
        "print(return_amount)\n"
      ],
      "metadata": {
        "colab": {
          "base_uri": "https://localhost:8080/"
        },
        "id": "bLCus8jLJE20",
        "outputId": "05198422-685c-4b0a-c573-2140b98b7c6d"
      },
      "execution_count": null,
      "outputs": [
        {
          "output_type": "stream",
          "name": "stdout",
          "text": [
            "Give initial amount ($):1500\n",
            "Give years of investment: 2\n",
            "Type of customer (n->new, e->existing):n\n",
            "1622.4\n"
          ]
        }
      ]
    },
    {
      "cell_type": "markdown",
      "source": [
        "Compound expressions are easier to read like a book and we also avoid potential errors compared to nested conditions. Nested conditions require a lot of conditionals and indentations which can be easy to make a mistake of."
      ],
      "metadata": {
        "id": "X99npZHLKRuy"
      }
    },
    {
      "cell_type": "markdown",
      "source": [
        "Rock, paper, scissors in class example:"
      ],
      "metadata": {
        "id": "m2698WjOPGkc"
      }
    },
    {
      "cell_type": "code",
      "source": [
        "p1 = input('choose rock, paper, scissors: ')\n",
        "p2 = input('choose rock, paper, scissors: ')\n",
        "\n",
        "if p1 == p2:\n",
        "  print('Draw')\n",
        "elif p1 == 'rock' and p2 == 'scissors':\n",
        "  print('Player 1 wins!')\n",
        "elif p1 == 'scissors' and p2 == 'paper':\n",
        "  print('Player 1 wins!')\n",
        "elif p1 == 'paper' and p2 == 'rock':\n",
        "  print('Player 1 wins!')\n",
        "else:\n",
        "  print('Player 2 wins!')"
      ],
      "metadata": {
        "id": "SsgR4V7_KRUm",
        "colab": {
          "base_uri": "https://localhost:8080/"
        },
        "outputId": "ba3ba3a4-a71e-4580-99b1-13453e88b1eb"
      },
      "execution_count": null,
      "outputs": [
        {
          "output_type": "stream",
          "name": "stdout",
          "text": [
            "choose rock, paper, scissors: scissors\n",
            "choose rock, paper, scissors: rock\n",
            "Player 2 wins!\n"
          ]
        }
      ]
    },
    {
      "cell_type": "markdown",
      "source": [
        "# **Class 7: September 11, 2024**"
      ],
      "metadata": {
        "id": "_R6-DpHxWsfp"
      }
    },
    {
      "cell_type": "markdown",
      "source": [
        "Calculator in class example:"
      ],
      "metadata": {
        "id": "4P4g64W6Z1iq"
      }
    },
    {
      "cell_type": "code",
      "source": [
        "n1 = float(input('enter number: '))\n",
        "n2 = float(input('enter number: '))\n",
        "symbol = input('Choose operator (+, -, *, /, **): ')\n",
        "\n",
        "if symbol == '+':\n",
        "  print(n1 + n2)\n",
        "elif symbol == '-':\n",
        "  print(n1 - n2)\n",
        "elif symbol == '*':\n",
        "  print(n1 * n2)\n",
        "elif symbol == '/':\n",
        "  print(n1 / n2)\n",
        "else:\n",
        "  print(n1 ** n2)"
      ],
      "metadata": {
        "colab": {
          "base_uri": "https://localhost:8080/"
        },
        "id": "VDWaAxeOXPsC",
        "outputId": "54e06b4f-7d8a-4cf4-b0f9-d2bc3d7fd5ac"
      },
      "execution_count": 14,
      "outputs": [
        {
          "output_type": "stream",
          "name": "stdout",
          "text": [
            "enter number: 2\n",
            "enter number: 3\n",
            "Choose operator (+, -, *, /, **): **\n",
            "8.0\n"
          ]
        }
      ]
    }
  ]
}