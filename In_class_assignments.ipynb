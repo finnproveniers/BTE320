{
  "nbformat": 4,
  "nbformat_minor": 0,
  "metadata": {
    "colab": {
      "provenance": [],
      "authorship_tag": "ABX9TyOfF5uCo4JGKCjhUeenQA2D",
      "include_colab_link": true
    },
    "kernelspec": {
      "name": "python3",
      "display_name": "Python 3"
    },
    "language_info": {
      "name": "python"
    }
  },
  "cells": [
    {
      "cell_type": "markdown",
      "metadata": {
        "id": "view-in-github",
        "colab_type": "text"
      },
      "source": [
        "<a href=\"https://colab.research.google.com/github/finnproveniers/BTE320/blob/main/In_class_assignments.ipynb\" target=\"_parent\"><img src=\"https://colab.research.google.com/assets/colab-badge.svg\" alt=\"Open In Colab\"/></a>"
      ]
    },
    {
      "cell_type": "markdown",
      "source": [
        "# **August 26, 2024: Area of a cylinder**"
      ],
      "metadata": {
        "id": "2Iy7Ei3rCv_i"
      }
    },
    {
      "cell_type": "code",
      "execution_count": null,
      "metadata": {
        "colab": {
          "base_uri": "https://localhost:8080/"
        },
        "id": "Oz5J-hf4CoRY",
        "outputId": "adcc3b88-01d7-4c86-823d-c8beae72b782"
      },
      "outputs": [
        {
          "output_type": "stream",
          "name": "stdout",
          "text": [
            "244.92000000000002\n"
          ]
        }
      ],
      "source": [
        "pi = 3.14\n",
        "r = 3\n",
        "h = 10\n",
        "Surfacearea=(2*pi*(r**2))+(2*pi*r*h)\n",
        "\n",
        "print(Surfacearea)\n"
      ]
    },
    {
      "cell_type": "markdown",
      "source": [
        "# **September 9, 2024: Rock, Paper, Scissors**"
      ],
      "metadata": {
        "id": "1fj6HXdPLZT9"
      }
    },
    {
      "cell_type": "code",
      "source": [
        "p1input = input('Player 1, pick either rock, paper, or scissors: ')\n",
        "p2input = input('Player 2, pick either rock, paper, or scissors: ')\n",
        "\n",
        "if p1input == p2input:\n",
        "  print('Draw')\n",
        "elif p1input == 'rock' and p2input == 'paper':\n",
        "  print('Player 2 wins')\n",
        "elif p1input == 'paper' and p2input == 'rock':\n",
        "  print('Player 1 wins')\n",
        "elif p1input == 'rock' and p2input == 'scissors':\n",
        "  print('Player 1 wins')\n",
        "elif p1input == 'scissors' and p2input == 'rock':\n",
        "  print('Player 2 wins')\n",
        "elif p1input == 'scissors' and p2input == 'paper':\n",
        "  print('Player 1 wins')\n",
        "elif p1input == 'paper' and p2input == 'scissors':\n",
        "  print('Player 2 wins')"
      ],
      "metadata": {
        "id": "pIizdvNHD8RB",
        "colab": {
          "base_uri": "https://localhost:8080/"
        },
        "outputId": "3c80eb2f-94af-46e3-dcfb-bb60e88f826f"
      },
      "execution_count": null,
      "outputs": [
        {
          "output_type": "stream",
          "name": "stdout",
          "text": [
            "Player 1, pick either rock, paper, or scissors: rock\n",
            "Player 2, pick either rock, paper, or scissors: rock\n",
            "Draw\n"
          ]
        }
      ]
    },
    {
      "cell_type": "markdown",
      "source": [
        "# **September 11, 2024: Calculator**"
      ],
      "metadata": {
        "id": "cySuT1cDY1aj"
      }
    },
    {
      "cell_type": "code",
      "source": [
        "number1 = float(input('Please pick a number: '))\n",
        "number2 = float(input('Please pick another number: '))\n",
        "symbol = (input('Choose an operation (+, -, *, /, or **): '))\n",
        "\n",
        "if symbol == '+':\n",
        "  return_amount = (number1 + number2)\n",
        "  print(return_amount)\n",
        "elif symbol == '-':\n",
        "  return_amount = (number1 - number2)\n",
        "  print(return_amount)\n",
        "elif symbol == '*':\n",
        "  return_amount = (number1 * number2)\n",
        "  print(return_amount)\n",
        "elif symbol == '/':\n",
        "  return_amount = (number1 / number2)\n",
        "  print(return_amount)\n",
        "else:\n",
        "  return_amount = (number1 ** number2)\n",
        "  print(return_amount)"
      ],
      "metadata": {
        "colab": {
          "base_uri": "https://localhost:8080/"
        },
        "id": "-EM1306TY8Iz",
        "outputId": "1dbf72f7-34f7-4e7f-82d8-f3c7664f3b2d"
      },
      "execution_count": null,
      "outputs": [
        {
          "output_type": "stream",
          "name": "stdout",
          "text": [
            "Please pick a number: 2\n",
            "Please pick another number: 3\n",
            "Choose an operation (+, -, *, /, or **): **\n",
            "8.0\n"
          ]
        }
      ]
    },
    {
      "cell_type": "markdown",
      "source": [
        "# **September 16, 2024: Rock, Paper, Scissors Again**"
      ],
      "metadata": {
        "id": "aFT38-5eOa3V"
      }
    },
    {
      "cell_type": "code",
      "source": [
        "choice = input('Do you want to play rock, paper, scissors? (yes or no)')\n",
        "while choice == 'yes':\n",
        "  p1input = input('Player 1, pick either rock, paper, or scissors: ')\n",
        "  p2input = input('Player 2, pick either rock, paper, or scissors: ')\n",
        "  if p1input == p2input:\n",
        "    print('Draw')\n",
        "  elif p1input == 'rock' and p2input == 'paper':\n",
        "    print('Player 2 wins')\n",
        "  elif p1input == 'paper' and p2input == 'rock':\n",
        "    print('Player 1 wins')\n",
        "  elif p1input == 'rock' and p2input == 'scissors':\n",
        "    print('Player 1 wins')\n",
        "  elif p1input == 'scissors' and p2input == 'rock':\n",
        "    print('Player 2 wins')\n",
        "  elif p1input == 'scissors' and p2input == 'paper':\n",
        "    print('Player 1 wins')\n",
        "  elif p1input == 'paper' and p2input == 'scissors':\n",
        "    print('Player 2 wins')\n",
        "  choice = input('Do you want to play rock, paper, scissors? (yes or no)')"
      ],
      "metadata": {
        "colab": {
          "base_uri": "https://localhost:8080/"
        },
        "id": "Eq1sswQJOhor",
        "outputId": "e6359036-2a61-4453-fbb2-29134ee10d02"
      },
      "execution_count": null,
      "outputs": [
        {
          "name": "stdout",
          "output_type": "stream",
          "text": [
            "Do you want to play rock, paper, scissors? (yes or no)yes\n",
            "Player 1, pick either rock, paper, or scissors: rock\n",
            "Player 2, pick either rock, paper, or scissors: scissors\n",
            "Player 1 wins\n",
            "Do you want to play rock, paper, scissors? (yes or no)yes\n",
            "Player 1, pick either rock, paper, or scissors: rock\n",
            "Player 2, pick either rock, paper, or scissors: rock\n",
            "Draw\n",
            "Do you want to play rock, paper, scissors? (yes or no)no\n"
          ]
        }
      ]
    },
    {
      "cell_type": "markdown",
      "source": [
        "# **September 18, 2024: Parking Garage & Movie Theater**:"
      ],
      "metadata": {
        "id": "iuBxGyHwZ6Y0"
      }
    },
    {
      "cell_type": "code",
      "source": [
        "flatrate = 5\n",
        "hourlyrate = 2.5\n",
        "\n",
        "for hour in range(1, 9, 1):\n",
        "  charge = flatrate + hourlyrate*hour\n",
        "  if charge < 10:\n",
        "    charge = 10\n",
        "  elif charge > 20:\n",
        "    charge = 20\n",
        "  print(hour , charge)"
      ],
      "metadata": {
        "colab": {
          "base_uri": "https://localhost:8080/"
        },
        "id": "IdQQCWtEZ-_5",
        "outputId": "7527c5ee-a554-40dc-8fbf-8dad023052ab"
      },
      "execution_count": 22,
      "outputs": [
        {
          "output_type": "stream",
          "name": "stdout",
          "text": [
            "1 10\n",
            "2 10.0\n",
            "3 12.5\n",
            "4 15.0\n",
            "5 17.5\n",
            "6 20.0\n",
            "7 20\n",
            "8 20\n"
          ]
        }
      ]
    },
    {
      "cell_type": "code",
      "source": [
        "movieticket = 10\n",
        "\n",
        "for ad in range(0, 225, 25):\n",
        "  additional = 2 * round(ad**0.5, 1)\n",
        "  profit = ((20 + additional) * movieticket) - 200 - ad\n",
        "  print(ad, profit)"
      ],
      "metadata": {
        "colab": {
          "base_uri": "https://localhost:8080/"
        },
        "id": "a0XMolmVkemy",
        "outputId": "3c336eb3-662d-4842-8c85-33a6c7b83367"
      },
      "execution_count": 63,
      "outputs": [
        {
          "output_type": "stream",
          "name": "stdout",
          "text": [
            "0 0.0\n",
            "25 75.0\n",
            "50 92.0\n",
            "75 99.0\n",
            "100 100.0\n",
            "125 99.0\n",
            "150 94.0\n",
            "175 89.0\n",
            "200 82.0\n"
          ]
        }
      ]
    }
  ]
}