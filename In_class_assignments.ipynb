{
  "nbformat": 4,
  "nbformat_minor": 0,
  "metadata": {
    "colab": {
      "provenance": [],
      "authorship_tag": "ABX9TyMPqmnXqcR7sD6g6otmovAg",
      "include_colab_link": true
    },
    "kernelspec": {
      "name": "python3",
      "display_name": "Python 3"
    },
    "language_info": {
      "name": "python"
    }
  },
  "cells": [
    {
      "cell_type": "markdown",
      "metadata": {
        "id": "view-in-github",
        "colab_type": "text"
      },
      "source": [
        "<a href=\"https://colab.research.google.com/github/finnproveniers/BTE320/blob/main/In_class_assignments.ipynb\" target=\"_parent\"><img src=\"https://colab.research.google.com/assets/colab-badge.svg\" alt=\"Open In Colab\"/></a>"
      ]
    },
    {
      "cell_type": "markdown",
      "source": [
        "# **August 26, 2024: Area of a cylinder**"
      ],
      "metadata": {
        "id": "2Iy7Ei3rCv_i"
      }
    },
    {
      "cell_type": "code",
      "execution_count": null,
      "metadata": {
        "colab": {
          "base_uri": "https://localhost:8080/"
        },
        "id": "Oz5J-hf4CoRY",
        "outputId": "adcc3b88-01d7-4c86-823d-c8beae72b782"
      },
      "outputs": [
        {
          "output_type": "stream",
          "name": "stdout",
          "text": [
            "244.92000000000002\n"
          ]
        }
      ],
      "source": [
        "pi = 3.14\n",
        "r = 3\n",
        "h = 10\n",
        "Surfacearea=(2*pi*(r**2))+(2*pi*r*h)\n",
        "\n",
        "print(Surfacearea)\n"
      ]
    },
    {
      "cell_type": "markdown",
      "source": [
        "# **September 9, 2024: Rock, Paper, Scissors**"
      ],
      "metadata": {
        "id": "1fj6HXdPLZT9"
      }
    },
    {
      "cell_type": "code",
      "source": [
        "p1input = input('Player 1, pick either rock, paper, or scissors: ')\n",
        "p2input = input('Player 2, pick either rock, paper, or scissors: ')\n",
        "\n",
        "if p1input == p2input:\n",
        "  print('Draw')\n",
        "elif p1input == 'rock' and p2input == 'paper':\n",
        "  print('Player 2 wins')\n",
        "elif p1input == 'paper' and p2input == 'rock':\n",
        "  print('Player 1 wins')\n",
        "elif p1input == 'rock' and p2input == 'scissors':\n",
        "  print('Player 1 wins')\n",
        "elif p1input == 'scissors' and p2input == 'rock':\n",
        "  print('Player 2 wins')\n",
        "elif p1input == 'scissors' and p2input == 'paper':\n",
        "  print('Player 1 wins')\n",
        "elif p1input == 'paper' and p2input == 'scissors':\n",
        "  print('Player 2 wins')"
      ],
      "metadata": {
        "id": "pIizdvNHD8RB",
        "colab": {
          "base_uri": "https://localhost:8080/"
        },
        "outputId": "3c80eb2f-94af-46e3-dcfb-bb60e88f826f"
      },
      "execution_count": null,
      "outputs": [
        {
          "output_type": "stream",
          "name": "stdout",
          "text": [
            "Player 1, pick either rock, paper, or scissors: rock\n",
            "Player 2, pick either rock, paper, or scissors: rock\n",
            "Draw\n"
          ]
        }
      ]
    },
    {
      "cell_type": "markdown",
      "source": [
        "# **September 11, 2024: Calculator**"
      ],
      "metadata": {
        "id": "cySuT1cDY1aj"
      }
    },
    {
      "cell_type": "code",
      "source": [
        "number1 = float(input('Please pick a number: '))\n",
        "number2 = float(input('Please pick another number: '))\n",
        "symbol = (input('Choose an operation (+, -, *, /, or **): '))\n",
        "\n",
        "if symbol == '+':\n",
        "  return_amount = (number1 + number2)\n",
        "  print(return_amount)\n",
        "elif symbol == '-':\n",
        "  return_amount = (number1 - number2)\n",
        "  print(return_amount)\n",
        "elif symbol == '*':\n",
        "  return_amount = (number1 * number2)\n",
        "  print(return_amount)\n",
        "elif symbol == '/':\n",
        "  return_amount = (number1 / number2)\n",
        "  print(return_amount)\n",
        "else:\n",
        "  return_amount = (number1 ** number2)\n",
        "  print(return_amount)"
      ],
      "metadata": {
        "colab": {
          "base_uri": "https://localhost:8080/"
        },
        "id": "-EM1306TY8Iz",
        "outputId": "1dbf72f7-34f7-4e7f-82d8-f3c7664f3b2d"
      },
      "execution_count": null,
      "outputs": [
        {
          "output_type": "stream",
          "name": "stdout",
          "text": [
            "Please pick a number: 2\n",
            "Please pick another number: 3\n",
            "Choose an operation (+, -, *, /, or **): **\n",
            "8.0\n"
          ]
        }
      ]
    }
  ]
}