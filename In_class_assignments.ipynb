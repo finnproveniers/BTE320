{
  "nbformat": 4,
  "nbformat_minor": 0,
  "metadata": {
    "colab": {
      "provenance": [],
      "authorship_tag": "ABX9TyOIm0Ofggiw5IPgPfYkIqdp",
      "include_colab_link": true
    },
    "kernelspec": {
      "name": "python3",
      "display_name": "Python 3"
    },
    "language_info": {
      "name": "python"
    }
  },
  "cells": [
    {
      "cell_type": "markdown",
      "metadata": {
        "id": "view-in-github",
        "colab_type": "text"
      },
      "source": [
        "<a href=\"https://colab.research.google.com/github/finnproveniers/BTE320/blob/main/In_class_assignments.ipynb\" target=\"_parent\"><img src=\"https://colab.research.google.com/assets/colab-badge.svg\" alt=\"Open In Colab\"/></a>"
      ]
    },
    {
      "cell_type": "markdown",
      "source": [
        "# **August 26, 2024: Shape Area Calculator**"
      ],
      "metadata": {
        "id": "2Iy7Ei3rCv_i"
      }
    },
    {
      "cell_type": "code",
      "execution_count": null,
      "metadata": {
        "colab": {
          "base_uri": "https://localhost:8080/"
        },
        "id": "Oz5J-hf4CoRY",
        "outputId": "483b87de-fd71-49b6-ac99-77632d05563c"
      },
      "outputs": [
        {
          "output_type": "stream",
          "name": "stdout",
          "text": [
            "Provide a value for the radius (in ft)5\n",
            "Provide value for side of sq: 10\n",
            "Provide height value:3\n",
            "Area is 78.5 sq ft.\n",
            "Program ends...\n"
          ]
        }
      ],
      "source": [
        "pi = 3.14\n",
        "r = float(input('Provide a value for the radius (in ft)'))\n",
        "c = float(input('Provide value for side of sq: '))\n",
        "h = float(input('Provide height value:'))\n",
        "shape = 'circle'\n",
        "\n",
        "if shape == 'circle':\n",
        "  area = pi * r ** 2\n",
        "  print(f'Area is {area} sq ft.')\n",
        "elif shape == 'sq':\n",
        "  area = c**2\n",
        "  print(f'Area is {area} sq ft.')\n",
        "elif shape == 'triangle':\n",
        "  area = 0.5 * c * h\n",
        "  print(f'Area is {area} sq ft.')\n",
        "elif shape == 'cylinder':\n",
        "  area = 2 * pi * r * h + 2 * r ** 2\n",
        "  print(f'Area is {area} sq ft.')\n",
        "print('Program ends...')"
      ]
    },
    {
      "cell_type": "markdown",
      "source": [
        "# **September 9, 2024: Rock, Paper, Scissors WITH WHILE LOOP**"
      ],
      "metadata": {
        "id": "1fj6HXdPLZT9"
      }
    },
    {
      "cell_type": "code",
      "source": [
        "choice = input('Do you want to play rock, paper, scissors? (yes or no)')\n",
        "while choice == 'yes':\n",
        "  p1input = input('Player 1, pick either rock, paper, or scissors: ')\n",
        "  p2input = input('Player 2, pick either rock, paper, or scissors: ')\n",
        "  if p1input == p2input:\n",
        "    print('Draw')\n",
        "  elif p1input == 'rock' and p2input == 'paper':\n",
        "    print('Player 2 wins')\n",
        "  elif p1input == 'paper' and p2input == 'rock':\n",
        "    print('Player 1 wins')\n",
        "  elif p1input == 'rock' and p2input == 'scissors':\n",
        "    print('Player 1 wins')\n",
        "  elif p1input == 'scissors' and p2input == 'rock':\n",
        "    print('Player 2 wins')\n",
        "  elif p1input == 'scissors' and p2input == 'paper':\n",
        "    print('Player 1 wins')\n",
        "  elif p1input == 'paper' and p2input == 'scissors':\n",
        "    print('Player 2 wins')\n",
        "  choice = input('Do you want to play rock, paper, scissors? (yes or no)')"
      ],
      "metadata": {
        "colab": {
          "base_uri": "https://localhost:8080/"
        },
        "id": "Eq1sswQJOhor",
        "outputId": "e6359036-2a61-4453-fbb2-29134ee10d02"
      },
      "execution_count": null,
      "outputs": [
        {
          "name": "stdout",
          "output_type": "stream",
          "text": [
            "Do you want to play rock, paper, scissors? (yes or no)yes\n",
            "Player 1, pick either rock, paper, or scissors: rock\n",
            "Player 2, pick either rock, paper, or scissors: scissors\n",
            "Player 1 wins\n",
            "Do you want to play rock, paper, scissors? (yes or no)yes\n",
            "Player 1, pick either rock, paper, or scissors: rock\n",
            "Player 2, pick either rock, paper, or scissors: rock\n",
            "Draw\n",
            "Do you want to play rock, paper, scissors? (yes or no)no\n"
          ]
        }
      ]
    },
    {
      "cell_type": "markdown",
      "source": [
        "# **September 11, 2024: Calculator**"
      ],
      "metadata": {
        "id": "cySuT1cDY1aj"
      }
    },
    {
      "cell_type": "code",
      "source": [
        "number1 = float(input('Please pick a number: '))\n",
        "number2 = float(input('Please pick another number: '))\n",
        "symbol = (input('Choose an operation (+, -, *, /, or **): '))\n",
        "\n",
        "if symbol == '+':\n",
        "  return_amount = (number1 + number2)\n",
        "  print(return_amount)\n",
        "elif symbol == '-':\n",
        "  return_amount = (number1 - number2)\n",
        "  print(return_amount)\n",
        "elif symbol == '*':\n",
        "  return_amount = (number1 * number2)\n",
        "  print(return_amount)\n",
        "elif symbol == '/':\n",
        "  return_amount = (number1 / number2)\n",
        "  print(return_amount)\n",
        "else:\n",
        "  return_amount = (number1 ** number2)\n",
        "  print(return_amount)"
      ],
      "metadata": {
        "colab": {
          "base_uri": "https://localhost:8080/"
        },
        "id": "-EM1306TY8Iz",
        "outputId": "1dbf72f7-34f7-4e7f-82d8-f3c7664f3b2d"
      },
      "execution_count": null,
      "outputs": [
        {
          "output_type": "stream",
          "name": "stdout",
          "text": [
            "Please pick a number: 2\n",
            "Please pick another number: 3\n",
            "Choose an operation (+, -, *, /, or **): **\n",
            "8.0\n"
          ]
        }
      ]
    },
    {
      "cell_type": "markdown",
      "source": [
        "# **September 18, 2024: Parking Garage & Movie Theater**:"
      ],
      "metadata": {
        "id": "iuBxGyHwZ6Y0"
      }
    },
    {
      "cell_type": "code",
      "source": [
        "flatrate = 5\n",
        "hourlyrate = 2.5\n",
        "\n",
        "for hour in range(1, 9, 1):\n",
        "  charge = flatrate + hourlyrate*hour\n",
        "  if charge < 10:\n",
        "    charge = 10\n",
        "  elif charge > 20:\n",
        "    charge = 20\n",
        "  print(hour , charge)"
      ],
      "metadata": {
        "colab": {
          "base_uri": "https://localhost:8080/"
        },
        "id": "IdQQCWtEZ-_5",
        "outputId": "7527c5ee-a554-40dc-8fbf-8dad023052ab"
      },
      "execution_count": null,
      "outputs": [
        {
          "output_type": "stream",
          "name": "stdout",
          "text": [
            "1 10\n",
            "2 10.0\n",
            "3 12.5\n",
            "4 15.0\n",
            "5 17.5\n",
            "6 20.0\n",
            "7 20\n",
            "8 20\n"
          ]
        }
      ]
    },
    {
      "cell_type": "code",
      "source": [
        "movieticket = 10\n",
        "\n",
        "for ad in range(0, 225, 25):\n",
        "  additional = 2 * round(ad**0.5, 1)\n",
        "  profit = ((20 + additional) * movieticket) - 200 - ad\n",
        "  print(ad, profit)"
      ],
      "metadata": {
        "colab": {
          "base_uri": "https://localhost:8080/"
        },
        "id": "a0XMolmVkemy",
        "outputId": "3c336eb3-662d-4842-8c85-33a6c7b83367"
      },
      "execution_count": null,
      "outputs": [
        {
          "output_type": "stream",
          "name": "stdout",
          "text": [
            "0 0.0\n",
            "25 75.0\n",
            "50 92.0\n",
            "75 99.0\n",
            "100 100.0\n",
            "125 99.0\n",
            "150 94.0\n",
            "175 89.0\n",
            "200 82.0\n"
          ]
        }
      ]
    },
    {
      "cell_type": "markdown",
      "source": [
        "#**September 25, 2024: Lists**"
      ],
      "metadata": {
        "id": "UpNeeKOdmLh-"
      }
    },
    {
      "cell_type": "code",
      "source": [
        "L = []\n",
        "value = int(input('Please provide a number: '))\n",
        "while value != 0:\n",
        "    L.append(value)\n",
        "    value = int(input('Please provide a number: '))\n",
        "L"
      ],
      "metadata": {
        "colab": {
          "base_uri": "https://localhost:8080/"
        },
        "id": "b5y5y8uAmN3R",
        "outputId": "1e2cde83-04ac-4e4d-f7d8-9e54edf0aaf3"
      },
      "execution_count": null,
      "outputs": [
        {
          "name": "stdout",
          "output_type": "stream",
          "text": [
            "Please provide a number: 1\n",
            "Please provide a number: 5\n",
            "Please provide a number: 2\n",
            "Please provide a number: 7\n",
            "Please provide a number: 0\n"
          ]
        },
        {
          "output_type": "execute_result",
          "data": {
            "text/plain": [
              "[1, 5, 2, 7]"
            ]
          },
          "metadata": {},
          "execution_count": 48
        }
      ]
    },
    {
      "cell_type": "markdown",
      "source": [
        "# **September 30, 2024: Months to Numbers Dictionary**"
      ],
      "metadata": {
        "id": "jX1nb3B5WBUa"
      }
    },
    {
      "cell_type": "code",
      "source": [
        "months = {}\n",
        "\n",
        "names = ['Jan', 'Feb', 'Mar', 'Apr', 'May', 'Jun', 'Jul', 'Aug', 'Sep', 'Oct', 'Nov', 'Dec']\n",
        "numbers = [1,2,3,4,5,6,7,8,9,10,11,12]\n",
        "\n",
        "for i in numbers:\n",
        "  months[i] = names[i-1]\n",
        "months"
      ],
      "metadata": {
        "colab": {
          "base_uri": "https://localhost:8080/"
        },
        "id": "ntMSKty5WBJP",
        "outputId": "3702839c-8c1c-4e60-89d4-b19e90a28a49"
      },
      "execution_count": null,
      "outputs": [
        {
          "output_type": "execute_result",
          "data": {
            "text/plain": [
              "{1: 'Jan',\n",
              " 2: 'Feb',\n",
              " 3: 'Mar',\n",
              " 4: 'Apr',\n",
              " 5: 'May',\n",
              " 6: 'Jun',\n",
              " 7: 'Jul',\n",
              " 8: 'Aug',\n",
              " 9: 'Sep',\n",
              " 10: 'Oct',\n",
              " 11: 'Nov',\n",
              " 12: 'Dec'}"
            ]
          },
          "metadata": {},
          "execution_count": 28
        }
      ]
    },
    {
      "cell_type": "markdown",
      "source": [
        "# **October 24, 2024: Fee Calculation and Display Functions**"
      ],
      "metadata": {
        "id": "7Ikx9DblcJSS"
      }
    },
    {
      "cell_type": "code",
      "source": [
        "def calcFee(hours):\n",
        "  fee = 5 + hours * 2.5\n",
        "  return fee\n",
        "\n",
        "hours_parked = int(input('Enter hours for parking: '))\n",
        "f = calcFee(hours_parked)\n",
        "print(f)"
      ],
      "metadata": {
        "colab": {
          "base_uri": "https://localhost:8080/"
        },
        "id": "X7En-xe2cPZn",
        "outputId": "b6ce073b-be26-4b49-f969-2752833a01f7"
      },
      "execution_count": null,
      "outputs": [
        {
          "output_type": "stream",
          "name": "stdout",
          "text": [
            "Enter hours for parking: 6\n",
            "20.0\n"
          ]
        }
      ]
    },
    {
      "cell_type": "code",
      "source": [
        "def calcFee(hours, decimals=2):\n",
        "  fee = round(5 + hours * 2.5, decimals)\n",
        "  return fee\n",
        "\n",
        "def displayFee(fee):\n",
        "  print(fee)\n",
        "\n",
        "hours_parked = int(input('Enter hours for parking: '))\n",
        "fee = calcFee(hours_parked)\n",
        "displayFee(f)"
      ],
      "metadata": {
        "colab": {
          "base_uri": "https://localhost:8080/"
        },
        "id": "viXiiA_yjGOG",
        "outputId": "9b3cdfb5-80f9-4bc3-8453-a26d05f97c4b"
      },
      "execution_count": null,
      "outputs": [
        {
          "output_type": "stream",
          "name": "stdout",
          "text": [
            "Enter hours for parking: 1\n",
            "12.5\n"
          ]
        }
      ]
    },
    {
      "cell_type": "markdown",
      "source": [
        "# **October 28, 2024: Reverse Function (Recursion)**"
      ],
      "metadata": {
        "id": "AfRfMNlGkhHy"
      }
    },
    {
      "cell_type": "code",
      "source": [
        "def rev(s):\n",
        "  if len(s) == 1:\n",
        "    return s\n",
        "  else:\n",
        "      return s[-1] + rev(s[1:-1]) + s[0]\n",
        "rev('Hello')"
      ],
      "metadata": {
        "colab": {
          "base_uri": "https://localhost:8080/",
          "height": 35
        },
        "id": "Ldu1Z-7mkgob",
        "outputId": "e2b02ce6-cf76-4b85-f3d5-059b5d5f9b00"
      },
      "execution_count": null,
      "outputs": [
        {
          "output_type": "execute_result",
          "data": {
            "text/plain": [
              "'olleH'"
            ],
            "application/vnd.google.colaboratory.intrinsic+json": {
              "type": "string"
            }
          },
          "metadata": {},
          "execution_count": 22
        }
      ]
    },
    {
      "cell_type": "markdown",
      "source": [
        "# **November 11, 2024: StudentClass**"
      ],
      "metadata": {
        "id": "hAWScald2xk8"
      }
    },
    {
      "cell_type": "code",
      "source": [
        "class Student:\n",
        "  def __init__(self, name, number):\n",
        "    self.name = name\n",
        "    self.number = number\n",
        "\n",
        "  def describe(self):\n",
        "    print(f'Name: {self.name}')\n",
        "    print(f'Number: {self.number}')"
      ],
      "metadata": {
        "id": "7krRqEpU21SP"
      },
      "execution_count": null,
      "outputs": []
    },
    {
      "cell_type": "code",
      "source": [
        "s1 = Student('James Bond', '007')\n",
        "s2 = Student('Clark Kent', '333')"
      ],
      "metadata": {
        "id": "GegN2MyB3i1m"
      },
      "execution_count": null,
      "outputs": []
    },
    {
      "cell_type": "code",
      "source": [
        "s1.describe()\n",
        "s2.describe()"
      ],
      "metadata": {
        "colab": {
          "base_uri": "https://localhost:8080/"
        },
        "id": "Z3ZgADbA3uYa",
        "outputId": "42504a6c-f2c6-4572-eb67-0113569436f4"
      },
      "execution_count": null,
      "outputs": [
        {
          "output_type": "stream",
          "name": "stdout",
          "text": [
            "Name: James Bond\n",
            "Number: 007\n",
            "Name: Clark Kent\n",
            "Number: 333\n"
          ]
        }
      ]
    },
    {
      "cell_type": "markdown",
      "source": [
        "# **November 13, 2024: Continuation from Student Class**"
      ],
      "metadata": {
        "id": "JuED2gwsK7m1"
      }
    },
    {
      "cell_type": "code",
      "source": [
        "class student:\n",
        "  def __init__(self, name, number):\n",
        "    self.name = name\n",
        "    self.number = number\n",
        "    self.courses = []\n",
        "\n",
        "  def enroll(self,course):\n",
        "    if course not in self.courses:\n",
        "      self.courses.append(course)\n",
        "    else:\n",
        "      print(f'You have already enrolled in the course: {course}')\n",
        "\n",
        "  def get_courses(self):\n",
        "    return self.courses"
      ],
      "metadata": {
        "id": "5JTaTC9CK7Ku"
      },
      "execution_count": null,
      "outputs": []
    },
    {
      "cell_type": "code",
      "source": [
        "s = student('Bob', '123')"
      ],
      "metadata": {
        "id": "jd8EkhCCLoJ7"
      },
      "execution_count": null,
      "outputs": []
    },
    {
      "cell_type": "code",
      "source": [
        "s.enroll('ABC123')\n",
        "s.enroll('ABC456')\n",
        "s.enroll('ABC789')"
      ],
      "metadata": {
        "id": "VPDnQUOdNKvD"
      },
      "execution_count": null,
      "outputs": []
    },
    {
      "cell_type": "code",
      "source": [
        "s.get_courses()"
      ],
      "metadata": {
        "colab": {
          "base_uri": "https://localhost:8080/"
        },
        "id": "fixABFLQMDco",
        "outputId": "b13bd637-dc00-4bbc-c798-3676cccc64db"
      },
      "execution_count": null,
      "outputs": [
        {
          "output_type": "execute_result",
          "data": {
            "text/plain": [
              "['ABC123', 'ABC456', 'ABC789']"
            ]
          },
          "metadata": {},
          "execution_count": 50
        }
      ]
    },
    {
      "cell_type": "code",
      "source": [
        "s.enroll('ABC123')"
      ],
      "metadata": {
        "colab": {
          "base_uri": "https://localhost:8080/"
        },
        "id": "48Sc6JyjPrnz",
        "outputId": "737420ff-a7e0-44af-fa21-d901a1291585"
      },
      "execution_count": null,
      "outputs": [
        {
          "output_type": "stream",
          "name": "stdout",
          "text": [
            "You have already enrolled in the course: ABC123\n"
          ]
        }
      ]
    }
  ]
}